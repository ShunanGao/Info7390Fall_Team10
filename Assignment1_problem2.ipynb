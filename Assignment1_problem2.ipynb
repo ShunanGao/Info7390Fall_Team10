{
 "cells": [
  {
   "cell_type": "code",
   "execution_count": null,
   "metadata": {
    "scrolled": true
   },
   "outputs": [],
   "source": [
    "import ipywidgets as widgets\n",
    "from ipywidgets import interact, interactive, fixed, interact_manual\n",
    "import requests, zipfile, io\n",
    "import os\n",
    "import glob\n",
    "import pandas\n",
    "import csv\n",
    "\n",
    "print(\"Assignment1 Problem2, by Python.\")\n",
    "\n",
    "urlList = [];\n",
    "fileList = [];\n",
    "impFileList = [];\n",
    "year = None;\n",
    "\n",
    "if not os.path.exists(\"data\"):\n",
    "    os.makedirs(\"data\")\n",
    "\n",
    "def getYear():\n",
    "    while True:\n",
    "        try:\n",
    "            year = int(input(\"Please enter a year: \"))\n",
    "            if year in range(2003,2018): \n",
    "                print(\"Accepted.\")\n",
    "                return year\n",
    "            else:\n",
    "                print(\"Please input a valid year.\")\n",
    "                continue\n",
    "        except ValueError:\n",
    "            print(\"Please input a valid year.\")\n",
    "            continue\n",
    "        else:\n",
    "            break\n",
    "\n",
    "\n",
    "def getQuarter(month):\n",
    "    if month in range(1,4): return 1\n",
    "    if month in range(4,7): return 2\n",
    "    if month in range(7,10): return 3\n",
    "    if month in range(10,13): return 4\n",
    "    \n",
    "\n",
    "def getUrlList(year):\n",
    "    urlList.clear()\n",
    "    folder = os.path.exists(\"data/%s\"%year)\n",
    "    \n",
    "    if not folder:\n",
    "        os.makedirs(\"data/%s\"%year)\n",
    "        \n",
    "        for month in range(1,13):\n",
    "            quarter = getQuarter(month)\n",
    "            if month < 10 : \n",
    "                month = '0{}'.format(month)\n",
    "            urlList.append(\"http://www.sec.gov/dera/data/Public-EDGAR-log-file-data/%s/Qtr%s/log%s%s01.zip\"%(year,quarter,year,month))\n",
    "        \n",
    "        for url in urlList:\n",
    "            r = requests.get(url)\n",
    "            z = zipfile.ZipFile(io.BytesIO(r.content))\n",
    "            z.extractall(\"data/%s\"%year)\n",
    "            print(\"extracting...\")\n",
    "        print(\"Done.\")\n",
    "\n",
    "    else :\n",
    "        print(\"Folder exists.\")\n",
    "        \n",
    "    return urlList\n",
    "\n",
    "year = getYear()\n",
    "getUrlList(year)\n"
   ]
  },
  {
   "cell_type": "code",
   "execution_count": null,
   "metadata": {},
   "outputs": [],
   "source": [
    "#Imputation"
   ]
  },
  {
   "cell_type": "code",
   "execution_count": 11,
   "metadata": {},
   "outputs": [],
   "source": [
    "\n",
    "def joincsv(year):\n",
    "    if not os.path.exists(\"%s.csv\"%year):\n",
    "        impFileList = glob.glob(\"*imput.csv\")\n",
    "        dataList = []\n",
    "        joinedCSV = \"%s.csv\"%year\n",
    "        for filename in fileList:\n",
    "            data = pandas.read_csv(filename,header = 1,low_memory = False)\n",
    "            dataList.append(data)\n",
    "            print(\"joining...\")\n",
    "        concat = pandas.concat(dataList, axis = 0)\n",
    "        concat.to_csv(joinedCSV,index = None)\n",
    "        print(\"csv joined.\")\n",
    "    else:\n",
    "        print(\"joinded already.\")\n",
    "joincsv(yearInput.value)\n"
   ]
  },
  {
   "cell_type": "code",
   "execution_count": 3,
   "metadata": {
    "scrolled": true
   },
   "outputs": [
    {
     "data": {
      "text/plain": [
       "93"
      ]
     },
     "execution_count": 3,
     "metadata": {},
     "output_type": "execute_result"
    }
   ],
   "source": []
  }
 ],
 "metadata": {
  "kernelspec": {
   "display_name": "Python 3",
   "language": "python",
   "name": "python3"
  },
  "language_info": {
   "codemirror_mode": {
    "name": "ipython",
    "version": 3
   },
   "file_extension": ".py",
   "mimetype": "text/x-python",
   "name": "python",
   "nbconvert_exporter": "python",
   "pygments_lexer": "ipython3",
   "version": "3.7.0"
  }
 },
 "nbformat": 4,
 "nbformat_minor": 2
}
